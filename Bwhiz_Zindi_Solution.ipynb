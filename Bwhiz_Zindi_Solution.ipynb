{
 "cells": [
  {
   "cell_type": "code",
   "execution_count": 111,
   "metadata": {},
   "outputs": [],
   "source": [
    "#importing libraries\n",
    "\n",
    "import pandas as pd\n",
    "import numpy as np\n",
    "import matplotlib.pyplot as plt\n",
    "import seaborn as sns\n",
    "sns.set()"
   ]
  },
  {
   "cell_type": "code",
   "execution_count": 112,
   "metadata": {},
   "outputs": [],
   "source": [
    "#importing train dataset from local disk\n",
    "train_data=pd.read_csv('zindi_train.csv')"
   ]
  },
  {
   "cell_type": "code",
   "execution_count": 113,
   "metadata": {},
   "outputs": [
    {
     "data": {
      "text/html": [
       "<div>\n",
       "<style scoped>\n",
       "    .dataframe tbody tr th:only-of-type {\n",
       "        vertical-align: middle;\n",
       "    }\n",
       "\n",
       "    .dataframe tbody tr th {\n",
       "        vertical-align: top;\n",
       "    }\n",
       "\n",
       "    .dataframe thead th {\n",
       "        text-align: right;\n",
       "    }\n",
       "</style>\n",
       "<table border=\"1\" class=\"dataframe\">\n",
       "  <thead>\n",
       "    <tr style=\"text-align: right;\">\n",
       "      <th></th>\n",
       "      <th>Item_ID</th>\n",
       "      <th>Store_ID</th>\n",
       "      <th>Item_Store_ID</th>\n",
       "      <th>Item_Weight</th>\n",
       "      <th>Item_Sugar_Content</th>\n",
       "      <th>Item_Visibility</th>\n",
       "      <th>Item_Type</th>\n",
       "      <th>Item_Price</th>\n",
       "      <th>Store_Start_Year</th>\n",
       "      <th>Store_Size</th>\n",
       "      <th>Store_Location_Type</th>\n",
       "      <th>Store_Type</th>\n",
       "      <th>Item_Store_Returns</th>\n",
       "    </tr>\n",
       "  </thead>\n",
       "  <tbody>\n",
       "    <tr>\n",
       "      <th>1037</th>\n",
       "      <td>FDE22</td>\n",
       "      <td>BABATUNJI010</td>\n",
       "      <td>FDE22_BABATUNJI010</td>\n",
       "      <td>9.695</td>\n",
       "      <td>Low Sugar</td>\n",
       "      <td>0.049499</td>\n",
       "      <td>Snack Foods</td>\n",
       "      <td>396.98</td>\n",
       "      <td>2005</td>\n",
       "      <td>NaN</td>\n",
       "      <td>Cluster 3</td>\n",
       "      <td>Grocery Store</td>\n",
       "      <td>798.96</td>\n",
       "    </tr>\n",
       "    <tr>\n",
       "      <th>1291</th>\n",
       "      <td>FDG33</td>\n",
       "      <td>BABATUNJI010</td>\n",
       "      <td>FDG33_BABATUNJI010</td>\n",
       "      <td>5.365</td>\n",
       "      <td>Normal Sugar</td>\n",
       "      <td>0.234733</td>\n",
       "      <td>Seafood</td>\n",
       "      <td>433.69</td>\n",
       "      <td>2005</td>\n",
       "      <td>NaN</td>\n",
       "      <td>Cluster 3</td>\n",
       "      <td>Grocery Store</td>\n",
       "      <td>429.44</td>\n",
       "    </tr>\n",
       "    <tr>\n",
       "      <th>1265</th>\n",
       "      <td>FDG16</td>\n",
       "      <td>BABATUNJI049</td>\n",
       "      <td>FDG16_BABATUNJI049</td>\n",
       "      <td>15.250</td>\n",
       "      <td>Low Sugar</td>\n",
       "      <td>0.089956</td>\n",
       "      <td>Frozen Foods</td>\n",
       "      <td>542.80</td>\n",
       "      <td>2006</td>\n",
       "      <td>Medium</td>\n",
       "      <td>Cluster 1</td>\n",
       "      <td>Supermarket Type1</td>\n",
       "      <td>8089.47</td>\n",
       "    </tr>\n",
       "    <tr>\n",
       "      <th>3429</th>\n",
       "      <td>FDW31</td>\n",
       "      <td>BABATUNJI018</td>\n",
       "      <td>FDW31_BABATUNJI018</td>\n",
       "      <td>11.350</td>\n",
       "      <td>Normal Sugar</td>\n",
       "      <td>0.043334</td>\n",
       "      <td>Fruits and Vegetables</td>\n",
       "      <td>502.69</td>\n",
       "      <td>2016</td>\n",
       "      <td>Medium</td>\n",
       "      <td>Cluster 3</td>\n",
       "      <td>Supermarket Type2</td>\n",
       "      <td>5474.54</td>\n",
       "    </tr>\n",
       "    <tr>\n",
       "      <th>1611</th>\n",
       "      <td>FDJ15</td>\n",
       "      <td>BABATUNJI017</td>\n",
       "      <td>FDJ15_BABATUNJI017</td>\n",
       "      <td>11.350</td>\n",
       "      <td>Normal Sugar</td>\n",
       "      <td>0.023454</td>\n",
       "      <td>Dairy</td>\n",
       "      <td>454.90</td>\n",
       "      <td>2014</td>\n",
       "      <td>NaN</td>\n",
       "      <td>Cluster 2</td>\n",
       "      <td>Supermarket Type1</td>\n",
       "      <td>4134.62</td>\n",
       "    </tr>\n",
       "  </tbody>\n",
       "</table>\n",
       "</div>"
      ],
      "text/plain": [
       "     Item_ID      Store_ID       Item_Store_ID  Item_Weight  \\\n",
       "1037   FDE22  BABATUNJI010  FDE22_BABATUNJI010        9.695   \n",
       "1291   FDG33  BABATUNJI010  FDG33_BABATUNJI010        5.365   \n",
       "1265   FDG16  BABATUNJI049  FDG16_BABATUNJI049       15.250   \n",
       "3429   FDW31  BABATUNJI018  FDW31_BABATUNJI018       11.350   \n",
       "1611   FDJ15  BABATUNJI017  FDJ15_BABATUNJI017       11.350   \n",
       "\n",
       "     Item_Sugar_Content  Item_Visibility              Item_Type  Item_Price  \\\n",
       "1037          Low Sugar         0.049499            Snack Foods      396.98   \n",
       "1291       Normal Sugar         0.234733                Seafood      433.69   \n",
       "1265          Low Sugar         0.089956           Frozen Foods      542.80   \n",
       "3429       Normal Sugar         0.043334  Fruits and Vegetables      502.69   \n",
       "1611       Normal Sugar         0.023454                  Dairy      454.90   \n",
       "\n",
       "      Store_Start_Year Store_Size Store_Location_Type         Store_Type  \\\n",
       "1037              2005        NaN           Cluster 3      Grocery Store   \n",
       "1291              2005        NaN           Cluster 3      Grocery Store   \n",
       "1265              2006     Medium           Cluster 1  Supermarket Type1   \n",
       "3429              2016     Medium           Cluster 3  Supermarket Type2   \n",
       "1611              2014        NaN           Cluster 2  Supermarket Type1   \n",
       "\n",
       "      Item_Store_Returns  \n",
       "1037              798.96  \n",
       "1291              429.44  \n",
       "1265             8089.47  \n",
       "3429             5474.54  \n",
       "1611             4134.62  "
      ]
     },
     "execution_count": 113,
     "metadata": {},
     "output_type": "execute_result"
    }
   ],
   "source": [
    "train_data.sample(5)"
   ]
  },
  {
   "cell_type": "code",
   "execution_count": 114,
   "metadata": {},
   "outputs": [
    {
     "data": {
      "text/plain": [
       "(4990, 13)"
      ]
     },
     "execution_count": 114,
     "metadata": {},
     "output_type": "execute_result"
    }
   ],
   "source": [
    "train_data.shape"
   ]
  },
  {
   "cell_type": "code",
   "execution_count": 115,
   "metadata": {},
   "outputs": [],
   "source": [
    "train_data.drop(['Item_ID','Store_ID'],axis=1,inplace=True)"
   ]
  },
  {
   "cell_type": "code",
   "execution_count": 116,
   "metadata": {},
   "outputs": [
    {
     "data": {
      "text/html": [
       "<div>\n",
       "<style scoped>\n",
       "    .dataframe tbody tr th:only-of-type {\n",
       "        vertical-align: middle;\n",
       "    }\n",
       "\n",
       "    .dataframe tbody tr th {\n",
       "        vertical-align: top;\n",
       "    }\n",
       "\n",
       "    .dataframe thead th {\n",
       "        text-align: right;\n",
       "    }\n",
       "</style>\n",
       "<table border=\"1\" class=\"dataframe\">\n",
       "  <thead>\n",
       "    <tr style=\"text-align: right;\">\n",
       "      <th></th>\n",
       "      <th>Item_Store_ID</th>\n",
       "      <th>Item_Weight</th>\n",
       "      <th>Item_Sugar_Content</th>\n",
       "      <th>Item_Visibility</th>\n",
       "      <th>Item_Type</th>\n",
       "      <th>Item_Price</th>\n",
       "      <th>Store_Start_Year</th>\n",
       "      <th>Store_Size</th>\n",
       "      <th>Store_Location_Type</th>\n",
       "      <th>Store_Type</th>\n",
       "      <th>Item_Store_Returns</th>\n",
       "    </tr>\n",
       "  </thead>\n",
       "  <tbody>\n",
       "    <tr>\n",
       "      <th>4726</th>\n",
       "      <td>NCS29_BABATUNJI019</td>\n",
       "      <td>NaN</td>\n",
       "      <td>Low Sugar</td>\n",
       "      <td>0.121765</td>\n",
       "      <td>Health and Hygiene</td>\n",
       "      <td>660.47</td>\n",
       "      <td>1992</td>\n",
       "      <td>Small</td>\n",
       "      <td>Cluster 1</td>\n",
       "      <td>Grocery Store</td>\n",
       "      <td>662.47</td>\n",
       "    </tr>\n",
       "    <tr>\n",
       "      <th>450</th>\n",
       "      <td>DRQ35_BABATUNJI017</td>\n",
       "      <td>9.30</td>\n",
       "      <td>Low Sugar</td>\n",
       "      <td>0.042531</td>\n",
       "      <td>Hard Drinks</td>\n",
       "      <td>313.85</td>\n",
       "      <td>2014</td>\n",
       "      <td>NaN</td>\n",
       "      <td>Cluster 2</td>\n",
       "      <td>Supermarket Type1</td>\n",
       "      <td>7120.73</td>\n",
       "    </tr>\n",
       "    <tr>\n",
       "      <th>4397</th>\n",
       "      <td>NCL30_BABATUNJI035</td>\n",
       "      <td>18.10</td>\n",
       "      <td>Low Sugar</td>\n",
       "      <td>0.048931</td>\n",
       "      <td>Household</td>\n",
       "      <td>318.33</td>\n",
       "      <td>2011</td>\n",
       "      <td>Small</td>\n",
       "      <td>Cluster 2</td>\n",
       "      <td>Supermarket Type1</td>\n",
       "      <td>2876.26</td>\n",
       "    </tr>\n",
       "    <tr>\n",
       "      <th>1591</th>\n",
       "      <td>FDJ04_BABATUNJI046</td>\n",
       "      <td>18.00</td>\n",
       "      <td>Low Sugar</td>\n",
       "      <td>0.124452</td>\n",
       "      <td>Frozen Foods</td>\n",
       "      <td>296.28</td>\n",
       "      <td>2004</td>\n",
       "      <td>Small</td>\n",
       "      <td>Cluster 1</td>\n",
       "      <td>Supermarket Type1</td>\n",
       "      <td>3259.09</td>\n",
       "    </tr>\n",
       "    <tr>\n",
       "      <th>1410</th>\n",
       "      <td>FDH34_BABATUNJI049</td>\n",
       "      <td>8.63</td>\n",
       "      <td>Low Sugar</td>\n",
       "      <td>0.031144</td>\n",
       "      <td>Snack Foods</td>\n",
       "      <td>459.90</td>\n",
       "      <td>2006</td>\n",
       "      <td>Medium</td>\n",
       "      <td>Cluster 1</td>\n",
       "      <td>Supermarket Type1</td>\n",
       "      <td>13467.47</td>\n",
       "    </tr>\n",
       "  </tbody>\n",
       "</table>\n",
       "</div>"
      ],
      "text/plain": [
       "           Item_Store_ID  Item_Weight Item_Sugar_Content  Item_Visibility  \\\n",
       "4726  NCS29_BABATUNJI019          NaN          Low Sugar         0.121765   \n",
       "450   DRQ35_BABATUNJI017         9.30          Low Sugar         0.042531   \n",
       "4397  NCL30_BABATUNJI035        18.10          Low Sugar         0.048931   \n",
       "1591  FDJ04_BABATUNJI046        18.00          Low Sugar         0.124452   \n",
       "1410  FDH34_BABATUNJI049         8.63          Low Sugar         0.031144   \n",
       "\n",
       "               Item_Type  Item_Price  Store_Start_Year Store_Size  \\\n",
       "4726  Health and Hygiene      660.47              1992      Small   \n",
       "450          Hard Drinks      313.85              2014        NaN   \n",
       "4397           Household      318.33              2011      Small   \n",
       "1591        Frozen Foods      296.28              2004      Small   \n",
       "1410         Snack Foods      459.90              2006     Medium   \n",
       "\n",
       "     Store_Location_Type         Store_Type  Item_Store_Returns  \n",
       "4726           Cluster 1      Grocery Store              662.47  \n",
       "450            Cluster 2  Supermarket Type1             7120.73  \n",
       "4397           Cluster 2  Supermarket Type1             2876.26  \n",
       "1591           Cluster 1  Supermarket Type1             3259.09  \n",
       "1410           Cluster 1  Supermarket Type1            13467.47  "
      ]
     },
     "execution_count": 116,
     "metadata": {},
     "output_type": "execute_result"
    }
   ],
   "source": [
    "train_data.sample(5)"
   ]
  },
  {
   "cell_type": "code",
   "execution_count": 117,
   "metadata": {},
   "outputs": [
    {
     "name": "stdout",
     "output_type": "stream",
     "text": [
      "<class 'pandas.core.frame.DataFrame'>\n",
      "RangeIndex: 4990 entries, 0 to 4989\n",
      "Data columns (total 11 columns):\n",
      " #   Column               Non-Null Count  Dtype  \n",
      "---  ------               --------------  -----  \n",
      " 0   Item_Store_ID        4990 non-null   object \n",
      " 1   Item_Weight          4188 non-null   float64\n",
      " 2   Item_Sugar_Content   4990 non-null   object \n",
      " 3   Item_Visibility      4990 non-null   float64\n",
      " 4   Item_Type            4990 non-null   object \n",
      " 5   Item_Price           4990 non-null   float64\n",
      " 6   Store_Start_Year     4990 non-null   int64  \n",
      " 7   Store_Size           3540 non-null   object \n",
      " 8   Store_Location_Type  4990 non-null   object \n",
      " 9   Store_Type           4990 non-null   object \n",
      " 10  Item_Store_Returns   4990 non-null   float64\n",
      "dtypes: float64(4), int64(1), object(6)\n",
      "memory usage: 429.0+ KB\n"
     ]
    }
   ],
   "source": [
    "train_data.info()"
   ]
  },
  {
   "cell_type": "code",
   "execution_count": 118,
   "metadata": {},
   "outputs": [],
   "source": [
    "#'Item_Weight' fill it with the mean,then try backward and forward filling methods ,then try filling with 0\n",
    "#'Store_Size': fill with the top freq"
   ]
  },
  {
   "cell_type": "code",
   "execution_count": 119,
   "metadata": {
    "scrolled": true
   },
   "outputs": [
    {
     "data": {
      "text/html": [
       "<div>\n",
       "<style scoped>\n",
       "    .dataframe tbody tr th:only-of-type {\n",
       "        vertical-align: middle;\n",
       "    }\n",
       "\n",
       "    .dataframe tbody tr th {\n",
       "        vertical-align: top;\n",
       "    }\n",
       "\n",
       "    .dataframe thead th {\n",
       "        text-align: right;\n",
       "    }\n",
       "</style>\n",
       "<table border=\"1\" class=\"dataframe\">\n",
       "  <thead>\n",
       "    <tr style=\"text-align: right;\">\n",
       "      <th></th>\n",
       "      <th>Item_Store_ID</th>\n",
       "      <th>Item_Weight</th>\n",
       "      <th>Item_Sugar_Content</th>\n",
       "      <th>Item_Visibility</th>\n",
       "      <th>Item_Type</th>\n",
       "      <th>Item_Price</th>\n",
       "      <th>Store_Start_Year</th>\n",
       "      <th>Store_Size</th>\n",
       "      <th>Store_Location_Type</th>\n",
       "      <th>Store_Type</th>\n",
       "      <th>Item_Store_Returns</th>\n",
       "    </tr>\n",
       "  </thead>\n",
       "  <tbody>\n",
       "    <tr>\n",
       "      <th>count</th>\n",
       "      <td>4990</td>\n",
       "      <td>4188.000000</td>\n",
       "      <td>4990</td>\n",
       "      <td>4990.000000</td>\n",
       "      <td>4990</td>\n",
       "      <td>4990.000000</td>\n",
       "      <td>4990.000000</td>\n",
       "      <td>3540</td>\n",
       "      <td>4990</td>\n",
       "      <td>4990</td>\n",
       "      <td>4990.000000</td>\n",
       "    </tr>\n",
       "    <tr>\n",
       "      <th>unique</th>\n",
       "      <td>4990</td>\n",
       "      <td>NaN</td>\n",
       "      <td>3</td>\n",
       "      <td>NaN</td>\n",
       "      <td>16</td>\n",
       "      <td>NaN</td>\n",
       "      <td>NaN</td>\n",
       "      <td>3</td>\n",
       "      <td>3</td>\n",
       "      <td>4</td>\n",
       "      <td>NaN</td>\n",
       "    </tr>\n",
       "    <tr>\n",
       "      <th>top</th>\n",
       "      <td>FDI50_BABATUNJI027</td>\n",
       "      <td>NaN</td>\n",
       "      <td>Low Sugar</td>\n",
       "      <td>NaN</td>\n",
       "      <td>Snack Foods</td>\n",
       "      <td>NaN</td>\n",
       "      <td>NaN</td>\n",
       "      <td>Medium</td>\n",
       "      <td>Cluster 3</td>\n",
       "      <td>Supermarket Type1</td>\n",
       "      <td>NaN</td>\n",
       "    </tr>\n",
       "    <tr>\n",
       "      <th>freq</th>\n",
       "      <td>1</td>\n",
       "      <td>NaN</td>\n",
       "      <td>3039</td>\n",
       "      <td>NaN</td>\n",
       "      <td>758</td>\n",
       "      <td>NaN</td>\n",
       "      <td>NaN</td>\n",
       "      <td>1582</td>\n",
       "      <td>1940</td>\n",
       "      <td>3304</td>\n",
       "      <td>NaN</td>\n",
       "    </tr>\n",
       "    <tr>\n",
       "      <th>mean</th>\n",
       "      <td>NaN</td>\n",
       "      <td>12.908838</td>\n",
       "      <td>NaN</td>\n",
       "      <td>0.066916</td>\n",
       "      <td>NaN</td>\n",
       "      <td>391.803796</td>\n",
       "      <td>2004.783567</td>\n",
       "      <td>NaN</td>\n",
       "      <td>NaN</td>\n",
       "      <td>NaN</td>\n",
       "      <td>6103.520164</td>\n",
       "    </tr>\n",
       "    <tr>\n",
       "      <th>std</th>\n",
       "      <td>NaN</td>\n",
       "      <td>4.703256</td>\n",
       "      <td>NaN</td>\n",
       "      <td>0.053058</td>\n",
       "      <td>NaN</td>\n",
       "      <td>119.378259</td>\n",
       "      <td>8.283151</td>\n",
       "      <td>NaN</td>\n",
       "      <td>NaN</td>\n",
       "      <td>NaN</td>\n",
       "      <td>4447.333835</td>\n",
       "    </tr>\n",
       "    <tr>\n",
       "      <th>min</th>\n",
       "      <td>NaN</td>\n",
       "      <td>4.555000</td>\n",
       "      <td>NaN</td>\n",
       "      <td>0.000000</td>\n",
       "      <td>NaN</td>\n",
       "      <td>78.730000</td>\n",
       "      <td>1992.000000</td>\n",
       "      <td>NaN</td>\n",
       "      <td>NaN</td>\n",
       "      <td>NaN</td>\n",
       "      <td>83.230000</td>\n",
       "    </tr>\n",
       "    <tr>\n",
       "      <th>25%</th>\n",
       "      <td>NaN</td>\n",
       "      <td>8.767500</td>\n",
       "      <td>NaN</td>\n",
       "      <td>0.027273</td>\n",
       "      <td>NaN</td>\n",
       "      <td>307.890000</td>\n",
       "      <td>1994.000000</td>\n",
       "      <td>NaN</td>\n",
       "      <td>NaN</td>\n",
       "      <td>NaN</td>\n",
       "      <td>2757.660000</td>\n",
       "    </tr>\n",
       "    <tr>\n",
       "      <th>50%</th>\n",
       "      <td>NaN</td>\n",
       "      <td>12.600000</td>\n",
       "      <td>NaN</td>\n",
       "      <td>0.053564</td>\n",
       "      <td>NaN</td>\n",
       "      <td>393.860000</td>\n",
       "      <td>2006.000000</td>\n",
       "      <td>NaN</td>\n",
       "      <td>NaN</td>\n",
       "      <td>NaN</td>\n",
       "      <td>5374.675000</td>\n",
       "    </tr>\n",
       "    <tr>\n",
       "      <th>75%</th>\n",
       "      <td>NaN</td>\n",
       "      <td>17.100000</td>\n",
       "      <td>NaN</td>\n",
       "      <td>0.095358</td>\n",
       "      <td>NaN</td>\n",
       "      <td>465.067500</td>\n",
       "      <td>2011.000000</td>\n",
       "      <td>NaN</td>\n",
       "      <td>NaN</td>\n",
       "      <td>NaN</td>\n",
       "      <td>8522.240000</td>\n",
       "    </tr>\n",
       "    <tr>\n",
       "      <th>max</th>\n",
       "      <td>NaN</td>\n",
       "      <td>21.350000</td>\n",
       "      <td>NaN</td>\n",
       "      <td>0.328391</td>\n",
       "      <td>NaN</td>\n",
       "      <td>667.220000</td>\n",
       "      <td>2016.000000</td>\n",
       "      <td>NaN</td>\n",
       "      <td>NaN</td>\n",
       "      <td>NaN</td>\n",
       "      <td>32717.410000</td>\n",
       "    </tr>\n",
       "  </tbody>\n",
       "</table>\n",
       "</div>"
      ],
      "text/plain": [
       "             Item_Store_ID  Item_Weight Item_Sugar_Content  Item_Visibility  \\\n",
       "count                 4990  4188.000000               4990      4990.000000   \n",
       "unique                4990          NaN                  3              NaN   \n",
       "top     FDI50_BABATUNJI027          NaN          Low Sugar              NaN   \n",
       "freq                     1          NaN               3039              NaN   \n",
       "mean                   NaN    12.908838                NaN         0.066916   \n",
       "std                    NaN     4.703256                NaN         0.053058   \n",
       "min                    NaN     4.555000                NaN         0.000000   \n",
       "25%                    NaN     8.767500                NaN         0.027273   \n",
       "50%                    NaN    12.600000                NaN         0.053564   \n",
       "75%                    NaN    17.100000                NaN         0.095358   \n",
       "max                    NaN    21.350000                NaN         0.328391   \n",
       "\n",
       "          Item_Type   Item_Price  Store_Start_Year Store_Size  \\\n",
       "count          4990  4990.000000       4990.000000       3540   \n",
       "unique           16          NaN               NaN          3   \n",
       "top     Snack Foods          NaN               NaN     Medium   \n",
       "freq            758          NaN               NaN       1582   \n",
       "mean            NaN   391.803796       2004.783567        NaN   \n",
       "std             NaN   119.378259          8.283151        NaN   \n",
       "min             NaN    78.730000       1992.000000        NaN   \n",
       "25%             NaN   307.890000       1994.000000        NaN   \n",
       "50%             NaN   393.860000       2006.000000        NaN   \n",
       "75%             NaN   465.067500       2011.000000        NaN   \n",
       "max             NaN   667.220000       2016.000000        NaN   \n",
       "\n",
       "       Store_Location_Type         Store_Type  Item_Store_Returns  \n",
       "count                 4990               4990         4990.000000  \n",
       "unique                   3                  4                 NaN  \n",
       "top              Cluster 3  Supermarket Type1                 NaN  \n",
       "freq                  1940               3304                 NaN  \n",
       "mean                   NaN                NaN         6103.520164  \n",
       "std                    NaN                NaN         4447.333835  \n",
       "min                    NaN                NaN           83.230000  \n",
       "25%                    NaN                NaN         2757.660000  \n",
       "50%                    NaN                NaN         5374.675000  \n",
       "75%                    NaN                NaN         8522.240000  \n",
       "max                    NaN                NaN        32717.410000  "
      ]
     },
     "execution_count": 119,
     "metadata": {},
     "output_type": "execute_result"
    }
   ],
   "source": [
    "train_data.describe(include='all')"
   ]
  },
  {
   "cell_type": "markdown",
   "metadata": {},
   "source": [
    "##### checking and filling missing values "
   ]
  },
  {
   "cell_type": "code",
   "execution_count": 120,
   "metadata": {
    "scrolled": true
   },
   "outputs": [
    {
     "data": {
      "text/plain": [
       "Item_Store_ID             0\n",
       "Item_Weight             802\n",
       "Item_Sugar_Content        0\n",
       "Item_Visibility           0\n",
       "Item_Type                 0\n",
       "Item_Price                0\n",
       "Store_Start_Year          0\n",
       "Store_Size             1450\n",
       "Store_Location_Type       0\n",
       "Store_Type                0\n",
       "Item_Store_Returns        0\n",
       "dtype: int64"
      ]
     },
     "execution_count": 120,
     "metadata": {},
     "output_type": "execute_result"
    }
   ],
   "source": [
    "train_data.isnull().sum()"
   ]
  },
  {
   "cell_type": "code",
   "execution_count": 121,
   "metadata": {},
   "outputs": [],
   "source": [
    "#filling missing values\n",
    "train_data.Item_Weight.fillna(train_data.Item_Weight.mean(),inplace=True)"
   ]
  },
  {
   "cell_type": "code",
   "execution_count": 122,
   "metadata": {},
   "outputs": [],
   "source": [
    "#replace missing values in 'Store_Size' with most freq value in the column\n",
    "train_data.Store_Size.replace({np.nan:'Medium'},inplace=True)"
   ]
  },
  {
   "cell_type": "code",
   "execution_count": 123,
   "metadata": {},
   "outputs": [
    {
     "data": {
      "text/plain": [
       "Item_Store_ID          0\n",
       "Item_Weight            0\n",
       "Item_Sugar_Content     0\n",
       "Item_Visibility        0\n",
       "Item_Type              0\n",
       "Item_Price             0\n",
       "Store_Start_Year       0\n",
       "Store_Size             0\n",
       "Store_Location_Type    0\n",
       "Store_Type             0\n",
       "Item_Store_Returns     0\n",
       "dtype: int64"
      ]
     },
     "execution_count": 123,
     "metadata": {},
     "output_type": "execute_result"
    }
   ],
   "source": [
    "train_data.isnull().sum()"
   ]
  },
  {
   "cell_type": "code",
   "execution_count": 124,
   "metadata": {
    "scrolled": true
   },
   "outputs": [
    {
     "name": "stdout",
     "output_type": "stream",
     "text": [
      "<class 'pandas.core.frame.DataFrame'>\n",
      "RangeIndex: 4990 entries, 0 to 4989\n",
      "Data columns (total 11 columns):\n",
      " #   Column               Non-Null Count  Dtype  \n",
      "---  ------               --------------  -----  \n",
      " 0   Item_Store_ID        4990 non-null   object \n",
      " 1   Item_Weight          4990 non-null   float64\n",
      " 2   Item_Sugar_Content   4990 non-null   object \n",
      " 3   Item_Visibility      4990 non-null   float64\n",
      " 4   Item_Type            4990 non-null   object \n",
      " 5   Item_Price           4990 non-null   float64\n",
      " 6   Store_Start_Year     4990 non-null   int64  \n",
      " 7   Store_Size           4990 non-null   object \n",
      " 8   Store_Location_Type  4990 non-null   object \n",
      " 9   Store_Type           4990 non-null   object \n",
      " 10  Item_Store_Returns   4990 non-null   float64\n",
      "dtypes: float64(4), int64(1), object(6)\n",
      "memory usage: 429.0+ KB\n"
     ]
    }
   ],
   "source": [
    "train_data.info()"
   ]
  },
  {
   "cell_type": "markdown",
   "metadata": {},
   "source": [
    "###### Handling the Catgeorical variables in the dataset"
   ]
  },
  {
   "cell_type": "code",
   "execution_count": 125,
   "metadata": {},
   "outputs": [
    {
     "data": {
      "text/plain": [
       "Cluster 3    1940\n",
       "Cluster 2    1581\n",
       "Cluster 1    1469\n",
       "Name: Store_Location_Type, dtype: int64"
      ]
     },
     "execution_count": 125,
     "metadata": {},
     "output_type": "execute_result"
    }
   ],
   "source": [
    "train_data.Store_Location_Type.value_counts()\n",
    "#this feature would be one hot encoded as values are nominal in nature"
   ]
  },
  {
   "cell_type": "code",
   "execution_count": 126,
   "metadata": {},
   "outputs": [
    {
     "data": {
      "text/plain": [
       "<matplotlib.axes._subplots.AxesSubplot at 0x13fea2656a0>"
      ]
     },
     "execution_count": 126,
     "metadata": {},
     "output_type": "execute_result"
    },
    {
     "data": {
      "image/png": "[encoded data removed]",
      "text/plain": [
       "<Figure size 432x288 with 1 Axes>"
      ]
     },
     "metadata": {},
     "output_type": "display_data"
    }
   ],
   "source": [
    "train_data.Store_Location_Type.value_counts().plot.bar()"
   ]
  },
  {
   "cell_type": "code",
   "execution_count": 127,
   "metadata": {},
   "outputs": [
    {
     "data": {
      "text/plain": [
       "Supermarket Type1    3304\n",
       "Grocery Store         724\n",
       "Supermarket Type2     500\n",
       "Supermarket Type3     462\n",
       "Name: Store_Type, dtype: int64"
      ]
     },
     "execution_count": 127,
     "metadata": {},
     "output_type": "execute_result"
    }
   ],
   "source": [
    "train_data.Store_Type.value_counts()\n",
    "#this feature would be one hot encoded as values are nominal in nature"
   ]
  },
  {
   "cell_type": "code",
   "execution_count": 128,
   "metadata": {},
   "outputs": [
    {
     "data": {
      "text/plain": [
       "<matplotlib.axes._subplots.AxesSubplot at 0x13feb331ee0>"
      ]
     },
     "execution_count": 128,
     "metadata": {},
     "output_type": "execute_result"
    },
    {
     "data": {
      "image/png": "[encoded data removed]",
      "text/plain": [
       "<Figure size 432x288 with 1 Axes>"
      ]
     },
     "metadata": {},
     "output_type": "display_data"
    }
   ],
   "source": [
    "train_data.Store_Type.value_counts().plot.bar()"
   ]
  },
  {
   "cell_type": "code",
   "execution_count": 129,
   "metadata": {},
   "outputs": [
    {
     "data": {
      "text/plain": [
       "Medium    3032\n",
       "Small     1364\n",
       "High       594\n",
       "Name: Store_Size, dtype: int64"
      ]
     },
     "execution_count": 129,
     "metadata": {},
     "output_type": "execute_result"
    }
   ],
   "source": [
    "train_data.Store_Size.value_counts()\n",
    "#Label encoding would be ideal for this feature , as the feature contains ordinal values\n",
    "#Small-0\n",
    "#Medium-1\n",
    "#High-2"
   ]
  },
  {
   "cell_type": "code",
   "execution_count": 130,
   "metadata": {},
   "outputs": [
    {
     "data": {
      "text/plain": [
       "<matplotlib.axes._subplots.AxesSubplot at 0x13feb3281f0>"
      ]
     },
     "execution_count": 130,
     "metadata": {},
     "output_type": "execute_result"
    },
    {
     "data": {
      "image/png": "[encoded data removed]",
      "text/plain": [
       "<Figure size 432x288 with 1 Axes>"
      ]
     },
     "metadata": {},
     "output_type": "display_data"
    }
   ],
   "source": [
    "train_data.Store_Size.value_counts().plot.bar()"
   ]
  },
  {
   "cell_type": "code",
   "execution_count": 131,
   "metadata": {},
   "outputs": [],
   "source": [
    "#Label encoding the store_size feature\n",
    "train_data.Store_Size.replace({'Small':1,\n",
    "                        'Medium':2,\n",
    "                        'High':3},inplace=True)"
   ]
  },
  {
   "cell_type": "code",
   "execution_count": 132,
   "metadata": {},
   "outputs": [
    {
     "data": {
      "text/plain": [
       "Low Sugar          3039\n",
       "Normal Sugar       1773\n",
       "Ultra Low Sugar     178\n",
       "Name: Item_Sugar_Content, dtype: int64"
      ]
     },
     "execution_count": 132,
     "metadata": {},
     "output_type": "execute_result"
    }
   ],
   "source": [
    "train_data.Item_Sugar_Content.value_counts()\n",
    "#ideal to carryout Label encoding since there is an intrinsic ranking of the values,\n",
    "#i.e normal Sugar - 3     \n",
    "#low Sugar - 2    \n",
    "#Ultra Low Sugar - 1"
   ]
  },
  {
   "cell_type": "code",
   "execution_count": 133,
   "metadata": {},
   "outputs": [],
   "source": [
    "#label encoding the Item_Sugar_Content feature\n",
    "train_data.Item_Sugar_Content.replace({'Ultra Low Sugar':1,\n",
    "                                 'Low Sugar':2,\n",
    "                                'Normal Sugar':3},inplace=True)"
   ]
  },
  {
   "cell_type": "code",
   "execution_count": 134,
   "metadata": {},
   "outputs": [
    {
     "data": {
      "text/html": [
       "<div>\n",
       "<style scoped>\n",
       "    .dataframe tbody tr th:only-of-type {\n",
       "        vertical-align: middle;\n",
       "    }\n",
       "\n",
       "    .dataframe tbody tr th {\n",
       "        vertical-align: top;\n",
       "    }\n",
       "\n",
       "    .dataframe thead th {\n",
       "        text-align: right;\n",
       "    }\n",
       "</style>\n",
       "<table border=\"1\" class=\"dataframe\">\n",
       "  <thead>\n",
       "    <tr style=\"text-align: right;\">\n",
       "      <th></th>\n",
       "      <th>Item_Store_ID</th>\n",
       "      <th>Item_Weight</th>\n",
       "      <th>Item_Sugar_Content</th>\n",
       "      <th>Item_Visibility</th>\n",
       "      <th>Item_Type</th>\n",
       "      <th>Item_Price</th>\n",
       "      <th>Store_Start_Year</th>\n",
       "      <th>Store_Size</th>\n",
       "      <th>Store_Location_Type</th>\n",
       "      <th>Store_Type</th>\n",
       "      <th>Item_Store_Returns</th>\n",
       "    </tr>\n",
       "  </thead>\n",
       "  <tbody>\n",
       "    <tr>\n",
       "      <th>4020</th>\n",
       "      <td>NCA05_BABATUNJI046</td>\n",
       "      <td>20.750000</td>\n",
       "      <td>2</td>\n",
       "      <td>0.025131</td>\n",
       "      <td>Health and Hygiene</td>\n",
       "      <td>375.18</td>\n",
       "      <td>2004</td>\n",
       "      <td>1</td>\n",
       "      <td>Cluster 1</td>\n",
       "      <td>Supermarket Type1</td>\n",
       "      <td>6310.12</td>\n",
       "    </tr>\n",
       "    <tr>\n",
       "      <th>3698</th>\n",
       "      <td>FDY04_BABATUNJI017</td>\n",
       "      <td>17.700000</td>\n",
       "      <td>3</td>\n",
       "      <td>0.042717</td>\n",
       "      <td>Frozen Foods</td>\n",
       "      <td>408.05</td>\n",
       "      <td>2014</td>\n",
       "      <td>2</td>\n",
       "      <td>Cluster 2</td>\n",
       "      <td>Supermarket Type1</td>\n",
       "      <td>4485.83</td>\n",
       "    </tr>\n",
       "    <tr>\n",
       "      <th>2895</th>\n",
       "      <td>FDT08_BABATUNJI035</td>\n",
       "      <td>13.650000</td>\n",
       "      <td>2</td>\n",
       "      <td>0.049209</td>\n",
       "      <td>Fruits and Vegetables</td>\n",
       "      <td>375.01</td>\n",
       "      <td>2011</td>\n",
       "      <td>1</td>\n",
       "      <td>Cluster 2</td>\n",
       "      <td>Supermarket Type1</td>\n",
       "      <td>5617.69</td>\n",
       "    </tr>\n",
       "    <tr>\n",
       "      <th>2577</th>\n",
       "      <td>FDR16_BABATUNJI018</td>\n",
       "      <td>5.845000</td>\n",
       "      <td>3</td>\n",
       "      <td>0.105446</td>\n",
       "      <td>Frozen Foods</td>\n",
       "      <td>536.05</td>\n",
       "      <td>2016</td>\n",
       "      <td>2</td>\n",
       "      <td>Cluster 3</td>\n",
       "      <td>Supermarket Type2</td>\n",
       "      <td>3740.13</td>\n",
       "    </tr>\n",
       "    <tr>\n",
       "      <th>530</th>\n",
       "      <td>FDA26_BABATUNJI027</td>\n",
       "      <td>12.908838</td>\n",
       "      <td>3</td>\n",
       "      <td>0.073562</td>\n",
       "      <td>Dairy</td>\n",
       "      <td>544.12</td>\n",
       "      <td>1992</td>\n",
       "      <td>2</td>\n",
       "      <td>Cluster 3</td>\n",
       "      <td>Supermarket Type3</td>\n",
       "      <td>8214.31</td>\n",
       "    </tr>\n",
       "  </tbody>\n",
       "</table>\n",
       "</div>"
      ],
      "text/plain": [
       "           Item_Store_ID  Item_Weight  Item_Sugar_Content  Item_Visibility  \\\n",
       "4020  NCA05_BABATUNJI046    20.750000                   2         0.025131   \n",
       "3698  FDY04_BABATUNJI017    17.700000                   3         0.042717   \n",
       "2895  FDT08_BABATUNJI035    13.650000                   2         0.049209   \n",
       "2577  FDR16_BABATUNJI018     5.845000                   3         0.105446   \n",
       "530   FDA26_BABATUNJI027    12.908838                   3         0.073562   \n",
       "\n",
       "                  Item_Type  Item_Price  Store_Start_Year  Store_Size  \\\n",
       "4020     Health and Hygiene      375.18              2004           1   \n",
       "3698           Frozen Foods      408.05              2014           2   \n",
       "2895  Fruits and Vegetables      375.01              2011           1   \n",
       "2577           Frozen Foods      536.05              2016           2   \n",
       "530                   Dairy      544.12              1992           2   \n",
       "\n",
       "     Store_Location_Type         Store_Type  Item_Store_Returns  \n",
       "4020           Cluster 1  Supermarket Type1             6310.12  \n",
       "3698           Cluster 2  Supermarket Type1             4485.83  \n",
       "2895           Cluster 2  Supermarket Type1             5617.69  \n",
       "2577           Cluster 3  Supermarket Type2             3740.13  \n",
       "530            Cluster 3  Supermarket Type3             8214.31  "
      ]
     },
     "execution_count": 134,
     "metadata": {},
     "output_type": "execute_result"
    }
   ],
   "source": [
    "train_data.sample(5)"
   ]
  },
  {
   "cell_type": "code",
   "execution_count": 135,
   "metadata": {
    "scrolled": true
   },
   "outputs": [
    {
     "data": {
      "text/plain": [
       "Snack Foods              758\n",
       "Fruits and Vegetables    747\n",
       "Household                567\n",
       "Frozen Foods             457\n",
       "Canned                   376\n",
       "Dairy                    350\n",
       "Baking Goods             344\n",
       "Health and Hygiene       307\n",
       "Meat                     264\n",
       "Soft Drinks              261\n",
       "Breads                   137\n",
       "Hard Drinks              134\n",
       "Others                   100\n",
       "Starchy Foods             81\n",
       "Breakfast                 66\n",
       "Seafood                   41\n",
       "Name: Item_Type, dtype: int64"
      ]
     },
     "execution_count": 135,
     "metadata": {},
     "output_type": "execute_result"
    }
   ],
   "source": [
    "train_data.Item_Type.value_counts()\n",
    "#carrying out a one hot encoding on this feature would lead to a sparse dataset"
   ]
  },
  {
   "cell_type": "code",
   "execution_count": 136,
   "metadata": {},
   "outputs": [
    {
     "data": {
      "text/plain": [
       "<matplotlib.axes._subplots.AxesSubplot at 0x13feb3d8940>"
      ]
     },
     "execution_count": 136,
     "metadata": {},
     "output_type": "execute_result"
    },
    {
     "data": {
      "image/png": "[encoded data removed]",
      "text/plain": [
       "<Figure size 432x288 with 2 Axes>"
      ]
     },
     "metadata": {},
     "output_type": "display_data"
    }
   ],
   "source": [
    "sns.heatmap(train_data.iloc[:,1:].corr(),annot=True)"
   ]
  },
  {
   "cell_type": "code",
   "execution_count": 137,
   "metadata": {},
   "outputs": [],
   "source": [
    "enc_store_location_type=pd.get_dummies(train_data.Store_Location_Type)"
   ]
  },
  {
   "cell_type": "code",
   "execution_count": 138,
   "metadata": {},
   "outputs": [],
   "source": [
    "train_data=pd.concat((train_data,enc_store_location_type),axis=1)"
   ]
  },
  {
   "cell_type": "code",
   "execution_count": 139,
   "metadata": {},
   "outputs": [],
   "source": [
    "train_data.drop('Store_Location_Type',axis=1,inplace=True)"
   ]
  },
  {
   "cell_type": "code",
   "execution_count": 140,
   "metadata": {},
   "outputs": [],
   "source": [
    "enc_Store_Type=pd.get_dummies(train_data.Store_Type)"
   ]
  },
  {
   "cell_type": "code",
   "execution_count": 141,
   "metadata": {},
   "outputs": [],
   "source": [
    "train_data.drop('Store_Type',axis=1,inplace=True)"
   ]
  },
  {
   "cell_type": "code",
   "execution_count": 142,
   "metadata": {},
   "outputs": [],
   "source": [
    "train_data=pd.concat((train_data,enc_Store_Type),axis=1)"
   ]
  },
  {
   "cell_type": "code",
   "execution_count": 143,
   "metadata": {},
   "outputs": [
    {
     "name": "stdout",
     "output_type": "stream",
     "text": [
      "<class 'pandas.core.frame.DataFrame'>\n",
      "RangeIndex: 4990 entries, 0 to 4989\n",
      "Data columns (total 16 columns):\n",
      " #   Column              Non-Null Count  Dtype  \n",
      "---  ------              --------------  -----  \n",
      " 0   Item_Store_ID       4990 non-null   object \n",
      " 1   Item_Weight         4990 non-null   float64\n",
      " 2   Item_Sugar_Content  4990 non-null   int64  \n",
      " 3   Item_Visibility     4990 non-null   float64\n",
      " 4   Item_Type           4990 non-null   object \n",
      " 5   Item_Price          4990 non-null   float64\n",
      " 6   Store_Start_Year    4990 non-null   int64  \n",
      " 7   Store_Size          4990 non-null   int64  \n",
      " 8   Item_Store_Returns  4990 non-null   float64\n",
      " 9   Cluster 1           4990 non-null   uint8  \n",
      " 10  Cluster 2           4990 non-null   uint8  \n",
      " 11  Cluster 3           4990 non-null   uint8  \n",
      " 12  Grocery Store       4990 non-null   uint8  \n",
      " 13  Supermarket Type1   4990 non-null   uint8  \n",
      " 14  Supermarket Type2   4990 non-null   uint8  \n",
      " 15  Supermarket Type3   4990 non-null   uint8  \n",
      "dtypes: float64(4), int64(3), object(2), uint8(7)\n",
      "memory usage: 385.1+ KB\n"
     ]
    }
   ],
   "source": [
    "train_data.info()"
   ]
  },
  {
   "cell_type": "code",
   "execution_count": 144,
   "metadata": {},
   "outputs": [],
   "source": [
    "train_data=train_data.astype({'Cluster 1':'float64',\n",
    "             'Cluster 2':'float64',\n",
    "             'Cluster 3':'float64',\n",
    "             'Grocery Store':'float64',\n",
    "             'Supermarket Type1':'float64',\n",
    "             'Supermarket Type2':'float64',\n",
    "             'Supermarket Type3':'float64'})"
   ]
  },
  {
   "cell_type": "code",
   "execution_count": 146,
   "metadata": {},
   "outputs": [],
   "source": [
    "enc_Item_Type=pd.get_dummies(train_data.Item_Type)\n",
    "train_data.drop('Item_Type',axis=1,inplace=True)"
   ]
  },
  {
   "cell_type": "code",
   "execution_count": 147,
   "metadata": {},
   "outputs": [],
   "source": [
    "train_data=pd.concat((train_data,enc_Item_Type),axis=1)"
   ]
  },
  {
   "cell_type": "code",
   "execution_count": 148,
   "metadata": {},
   "outputs": [
    {
     "data": {
      "text/html": [
       "<div>\n",
       "<style scoped>\n",
       "    .dataframe tbody tr th:only-of-type {\n",
       "        vertical-align: middle;\n",
       "    }\n",
       "\n",
       "    .dataframe tbody tr th {\n",
       "        vertical-align: top;\n",
       "    }\n",
       "\n",
       "    .dataframe thead th {\n",
       "        text-align: right;\n",
       "    }\n",
       "</style>\n",
       "<table border=\"1\" class=\"dataframe\">\n",
       "  <thead>\n",
       "    <tr style=\"text-align: right;\">\n",
       "      <th></th>\n",
       "      <th>Item_Store_ID</th>\n",
       "      <th>Item_Weight</th>\n",
       "      <th>Item_Sugar_Content</th>\n",
       "      <th>Item_Visibility</th>\n",
       "      <th>Item_Price</th>\n",
       "      <th>Store_Start_Year</th>\n",
       "      <th>Store_Size</th>\n",
       "      <th>Item_Store_Returns</th>\n",
       "      <th>Cluster 1</th>\n",
       "      <th>Cluster 2</th>\n",
       "      <th>...</th>\n",
       "      <th>Fruits and Vegetables</th>\n",
       "      <th>Hard Drinks</th>\n",
       "      <th>Health and Hygiene</th>\n",
       "      <th>Household</th>\n",
       "      <th>Meat</th>\n",
       "      <th>Others</th>\n",
       "      <th>Seafood</th>\n",
       "      <th>Snack Foods</th>\n",
       "      <th>Soft Drinks</th>\n",
       "      <th>Starchy Foods</th>\n",
       "    </tr>\n",
       "  </thead>\n",
       "  <tbody>\n",
       "    <tr>\n",
       "      <th>0</th>\n",
       "      <td>DRA12_BABATUNJI010</td>\n",
       "      <td>11.6</td>\n",
       "      <td>2</td>\n",
       "      <td>0.068535</td>\n",
       "      <td>357.54</td>\n",
       "      <td>2005</td>\n",
       "      <td>2</td>\n",
       "      <td>709.08</td>\n",
       "      <td>0.0</td>\n",
       "      <td>0.0</td>\n",
       "      <td>...</td>\n",
       "      <td>0</td>\n",
       "      <td>0</td>\n",
       "      <td>0</td>\n",
       "      <td>0</td>\n",
       "      <td>0</td>\n",
       "      <td>0</td>\n",
       "      <td>0</td>\n",
       "      <td>0</td>\n",
       "      <td>1</td>\n",
       "      <td>0</td>\n",
       "    </tr>\n",
       "    <tr>\n",
       "      <th>1</th>\n",
       "      <td>DRA12_BABATUNJI013</td>\n",
       "      <td>11.6</td>\n",
       "      <td>2</td>\n",
       "      <td>0.040912</td>\n",
       "      <td>355.79</td>\n",
       "      <td>1994</td>\n",
       "      <td>3</td>\n",
       "      <td>6381.69</td>\n",
       "      <td>0.0</td>\n",
       "      <td>0.0</td>\n",
       "      <td>...</td>\n",
       "      <td>0</td>\n",
       "      <td>0</td>\n",
       "      <td>0</td>\n",
       "      <td>0</td>\n",
       "      <td>0</td>\n",
       "      <td>0</td>\n",
       "      <td>0</td>\n",
       "      <td>0</td>\n",
       "      <td>1</td>\n",
       "      <td>0</td>\n",
       "    </tr>\n",
       "    <tr>\n",
       "      <th>2</th>\n",
       "      <td>DRA12_BABATUNJI017</td>\n",
       "      <td>11.6</td>\n",
       "      <td>2</td>\n",
       "      <td>0.041178</td>\n",
       "      <td>350.79</td>\n",
       "      <td>2014</td>\n",
       "      <td>2</td>\n",
       "      <td>6381.69</td>\n",
       "      <td>0.0</td>\n",
       "      <td>1.0</td>\n",
       "      <td>...</td>\n",
       "      <td>0</td>\n",
       "      <td>0</td>\n",
       "      <td>0</td>\n",
       "      <td>0</td>\n",
       "      <td>0</td>\n",
       "      <td>0</td>\n",
       "      <td>0</td>\n",
       "      <td>0</td>\n",
       "      <td>1</td>\n",
       "      <td>0</td>\n",
       "    </tr>\n",
       "    <tr>\n",
       "      <th>3</th>\n",
       "      <td>DRA12_BABATUNJI018</td>\n",
       "      <td>11.6</td>\n",
       "      <td>2</td>\n",
       "      <td>0.041113</td>\n",
       "      <td>355.04</td>\n",
       "      <td>2016</td>\n",
       "      <td>2</td>\n",
       "      <td>2127.23</td>\n",
       "      <td>0.0</td>\n",
       "      <td>0.0</td>\n",
       "      <td>...</td>\n",
       "      <td>0</td>\n",
       "      <td>0</td>\n",
       "      <td>0</td>\n",
       "      <td>0</td>\n",
       "      <td>0</td>\n",
       "      <td>0</td>\n",
       "      <td>0</td>\n",
       "      <td>0</td>\n",
       "      <td>1</td>\n",
       "      <td>0</td>\n",
       "    </tr>\n",
       "    <tr>\n",
       "      <th>4</th>\n",
       "      <td>DRA12_BABATUNJI035</td>\n",
       "      <td>11.6</td>\n",
       "      <td>1</td>\n",
       "      <td>0.000000</td>\n",
       "      <td>354.79</td>\n",
       "      <td>2011</td>\n",
       "      <td>1</td>\n",
       "      <td>2481.77</td>\n",
       "      <td>0.0</td>\n",
       "      <td>1.0</td>\n",
       "      <td>...</td>\n",
       "      <td>0</td>\n",
       "      <td>0</td>\n",
       "      <td>0</td>\n",
       "      <td>0</td>\n",
       "      <td>0</td>\n",
       "      <td>0</td>\n",
       "      <td>0</td>\n",
       "      <td>0</td>\n",
       "      <td>1</td>\n",
       "      <td>0</td>\n",
       "    </tr>\n",
       "  </tbody>\n",
       "</table>\n",
       "<p>5 rows × 31 columns</p>\n",
       "</div>"
      ],
      "text/plain": [
       "        Item_Store_ID  Item_Weight  Item_Sugar_Content  Item_Visibility  \\\n",
       "0  DRA12_BABATUNJI010         11.6                   2         0.068535   \n",
       "1  DRA12_BABATUNJI013         11.6                   2         0.040912   \n",
       "2  DRA12_BABATUNJI017         11.6                   2         0.041178   \n",
       "3  DRA12_BABATUNJI018         11.6                   2         0.041113   \n",
       "4  DRA12_BABATUNJI035         11.6                   1         0.000000   \n",
       "\n",
       "   Item_Price  Store_Start_Year  Store_Size  Item_Store_Returns  Cluster 1  \\\n",
       "0      357.54              2005           2              709.08        0.0   \n",
       "1      355.79              1994           3             6381.69        0.0   \n",
       "2      350.79              2014           2             6381.69        0.0   \n",
       "3      355.04              2016           2             2127.23        0.0   \n",
       "4      354.79              2011           1             2481.77        0.0   \n",
       "\n",
       "   Cluster 2  ...  Fruits and Vegetables  Hard Drinks  Health and Hygiene  \\\n",
       "0        0.0  ...                      0            0                   0   \n",
       "1        0.0  ...                      0            0                   0   \n",
       "2        1.0  ...                      0            0                   0   \n",
       "3        0.0  ...                      0            0                   0   \n",
       "4        1.0  ...                      0            0                   0   \n",
       "\n",
       "   Household  Meat  Others  Seafood  Snack Foods  Soft Drinks  Starchy Foods  \n",
       "0          0     0       0        0            0            1              0  \n",
       "1          0     0       0        0            0            1              0  \n",
       "2          0     0       0        0            0            1              0  \n",
       "3          0     0       0        0            0            1              0  \n",
       "4          0     0       0        0            0            1              0  \n",
       "\n",
       "[5 rows x 31 columns]"
      ]
     },
     "execution_count": 148,
     "metadata": {},
     "output_type": "execute_result"
    }
   ],
   "source": [
    "train_data.head()"
   ]
  },
  {
   "cell_type": "code",
   "execution_count": 149,
   "metadata": {},
   "outputs": [],
   "source": [
    "cols=train_data.columns"
   ]
  },
  {
   "cell_type": "code",
   "execution_count": 150,
   "metadata": {},
   "outputs": [],
   "source": [
    "new_columns=[]\n",
    "for i in cols:\n",
    "    new_columns.append(i.replace(' ','_'))\n",
    "train_data.columns=new_columns"
   ]
  },
  {
   "cell_type": "code",
   "execution_count": 151,
   "metadata": {},
   "outputs": [],
   "source": [
    "train_data.to_csv('clean_zindi_train_.csv')"
   ]
  },
  {
   "cell_type": "markdown",
   "metadata": {},
   "source": [
    "#### performing similar Data cleaning operation on the test dataset"
   ]
  },
  {
   "cell_type": "code",
   "execution_count": 152,
   "metadata": {},
   "outputs": [],
   "source": [
    "test_data=pd.read_csv('zindi_test.csv')"
   ]
  },
  {
   "cell_type": "code",
   "execution_count": 153,
   "metadata": {},
   "outputs": [
    {
     "data": {
      "text/html": [
       "<div>\n",
       "<style scoped>\n",
       "    .dataframe tbody tr th:only-of-type {\n",
       "        vertical-align: middle;\n",
       "    }\n",
       "\n",
       "    .dataframe tbody tr th {\n",
       "        vertical-align: top;\n",
       "    }\n",
       "\n",
       "    .dataframe thead th {\n",
       "        text-align: right;\n",
       "    }\n",
       "</style>\n",
       "<table border=\"1\" class=\"dataframe\">\n",
       "  <thead>\n",
       "    <tr style=\"text-align: right;\">\n",
       "      <th></th>\n",
       "      <th>Item_ID</th>\n",
       "      <th>Store_ID</th>\n",
       "      <th>Item_Store_ID</th>\n",
       "      <th>Item_Weight</th>\n",
       "      <th>Item_Sugar_Content</th>\n",
       "      <th>Item_Visibility</th>\n",
       "      <th>Item_Type</th>\n",
       "      <th>Item_Price</th>\n",
       "      <th>Store_Start_Year</th>\n",
       "      <th>Store_Size</th>\n",
       "      <th>Store_Location_Type</th>\n",
       "      <th>Store_Type</th>\n",
       "    </tr>\n",
       "  </thead>\n",
       "  <tbody>\n",
       "    <tr>\n",
       "      <th>1987</th>\n",
       "      <td>FDR43</td>\n",
       "      <td>BABATUNJI018</td>\n",
       "      <td>FDR43_BABATUNJI018</td>\n",
       "      <td>18.200</td>\n",
       "      <td>Low Sugar</td>\n",
       "      <td>0.162147</td>\n",
       "      <td>Fruits and Vegetables</td>\n",
       "      <td>94.30</td>\n",
       "      <td>2016</td>\n",
       "      <td>Medium</td>\n",
       "      <td>Cluster 3</td>\n",
       "      <td>Supermarket Type2</td>\n",
       "    </tr>\n",
       "    <tr>\n",
       "      <th>2977</th>\n",
       "      <td>NCD19</td>\n",
       "      <td>BABATUNJI017</td>\n",
       "      <td>NCD19_BABATUNJI017</td>\n",
       "      <td>8.930</td>\n",
       "      <td>Low Sugar</td>\n",
       "      <td>0.013254</td>\n",
       "      <td>Household</td>\n",
       "      <td>141.15</td>\n",
       "      <td>2014</td>\n",
       "      <td>NaN</td>\n",
       "      <td>Cluster 2</td>\n",
       "      <td>Supermarket Type1</td>\n",
       "    </tr>\n",
       "    <tr>\n",
       "      <th>3092</th>\n",
       "      <td>NCI43</td>\n",
       "      <td>BABATUNJI018</td>\n",
       "      <td>NCI43_BABATUNJI018</td>\n",
       "      <td>19.850</td>\n",
       "      <td>Low Sugar</td>\n",
       "      <td>0.026074</td>\n",
       "      <td>Household</td>\n",
       "      <td>121.59</td>\n",
       "      <td>2016</td>\n",
       "      <td>Medium</td>\n",
       "      <td>Cluster 3</td>\n",
       "      <td>Supermarket Type2</td>\n",
       "    </tr>\n",
       "    <tr>\n",
       "      <th>1487</th>\n",
       "      <td>FDM28</td>\n",
       "      <td>BABATUNJI010</td>\n",
       "      <td>FDM28_BABATUNJI010</td>\n",
       "      <td>15.700</td>\n",
       "      <td>Low Sugar</td>\n",
       "      <td>0.075662</td>\n",
       "      <td>Frozen Foods</td>\n",
       "      <td>453.42</td>\n",
       "      <td>2005</td>\n",
       "      <td>NaN</td>\n",
       "      <td>Cluster 3</td>\n",
       "      <td>Grocery Store</td>\n",
       "    </tr>\n",
       "    <tr>\n",
       "      <th>681</th>\n",
       "      <td>FDD28</td>\n",
       "      <td>BABATUNJI049</td>\n",
       "      <td>FDD28_BABATUNJI049</td>\n",
       "      <td>10.695</td>\n",
       "      <td>Low Sugar</td>\n",
       "      <td>0.053380</td>\n",
       "      <td>Frozen Foods</td>\n",
       "      <td>141.98</td>\n",
       "      <td>2006</td>\n",
       "      <td>Medium</td>\n",
       "      <td>Cluster 1</td>\n",
       "      <td>Supermarket Type1</td>\n",
       "    </tr>\n",
       "  </tbody>\n",
       "</table>\n",
       "</div>"
      ],
      "text/plain": [
       "     Item_ID      Store_ID       Item_Store_ID  Item_Weight  \\\n",
       "1987   FDR43  BABATUNJI018  FDR43_BABATUNJI018       18.200   \n",
       "2977   NCD19  BABATUNJI017  NCD19_BABATUNJI017        8.930   \n",
       "3092   NCI43  BABATUNJI018  NCI43_BABATUNJI018       19.850   \n",
       "1487   FDM28  BABATUNJI010  FDM28_BABATUNJI010       15.700   \n",
       "681    FDD28  BABATUNJI049  FDD28_BABATUNJI049       10.695   \n",
       "\n",
       "     Item_Sugar_Content  Item_Visibility              Item_Type  Item_Price  \\\n",
       "1987          Low Sugar         0.162147  Fruits and Vegetables       94.30   \n",
       "2977          Low Sugar         0.013254              Household      141.15   \n",
       "3092          Low Sugar         0.026074              Household      121.59   \n",
       "1487          Low Sugar         0.075662           Frozen Foods      453.42   \n",
       "681           Low Sugar         0.053380           Frozen Foods      141.98   \n",
       "\n",
       "      Store_Start_Year Store_Size Store_Location_Type         Store_Type  \n",
       "1987              2016     Medium           Cluster 3  Supermarket Type2  \n",
       "2977              2014        NaN           Cluster 2  Supermarket Type1  \n",
       "3092              2016     Medium           Cluster 3  Supermarket Type2  \n",
       "1487              2005        NaN           Cluster 3      Grocery Store  \n",
       "681               2006     Medium           Cluster 1  Supermarket Type1  "
      ]
     },
     "execution_count": 153,
     "metadata": {},
     "output_type": "execute_result"
    }
   ],
   "source": [
    "test_data.sample(5)"
   ]
  },
  {
   "cell_type": "code",
   "execution_count": 154,
   "metadata": {
    "scrolled": true
   },
   "outputs": [],
   "source": [
    "test_data.drop(['Item_ID','Store_ID'],axis=1,inplace=True)"
   ]
  },
  {
   "cell_type": "code",
   "execution_count": 155,
   "metadata": {},
   "outputs": [],
   "source": [
    "test_data.Item_Weight.fillna(test_data.Item_Weight.mean(),inplace=True)"
   ]
  },
  {
   "cell_type": "code",
   "execution_count": 156,
   "metadata": {},
   "outputs": [],
   "source": [
    "test_data.Store_Size.replace({np.nan:'Medium'},inplace=True)"
   ]
  },
  {
   "cell_type": "code",
   "execution_count": 157,
   "metadata": {},
   "outputs": [],
   "source": [
    "#Label encoding the store_size feature\n",
    "test_data.Store_Size.replace({'Small':1,\n",
    "                        'Medium':2,\n",
    "                        'High':3},inplace=True)"
   ]
  },
  {
   "cell_type": "code",
   "execution_count": 158,
   "metadata": {},
   "outputs": [],
   "source": [
    "#label encoding the Item_Sugar_Content feature\n",
    "test_data.Item_Sugar_Content.replace({'Ultra Low Sugar':1,\n",
    "                                 'Low Sugar':2,\n",
    "                                'Normal Sugar':3},inplace=True)"
   ]
  },
  {
   "cell_type": "code",
   "execution_count": 159,
   "metadata": {},
   "outputs": [],
   "source": [
    "enc_store_location_type=pd.get_dummies(test_data.Store_Location_Type)"
   ]
  },
  {
   "cell_type": "code",
   "execution_count": 160,
   "metadata": {},
   "outputs": [],
   "source": [
    "test_data=pd.concat((test_data,enc_store_location_type),axis=1)"
   ]
  },
  {
   "cell_type": "code",
   "execution_count": 161,
   "metadata": {},
   "outputs": [],
   "source": [
    "test_data.drop('Store_Location_Type',axis=1,inplace=True)"
   ]
  },
  {
   "cell_type": "code",
   "execution_count": 162,
   "metadata": {},
   "outputs": [],
   "source": [
    "enc_Store_Type=pd.get_dummies(test_data.Store_Type)"
   ]
  },
  {
   "cell_type": "code",
   "execution_count": 163,
   "metadata": {},
   "outputs": [],
   "source": [
    "test_data.drop('Store_Type',axis=1,inplace=True)"
   ]
  },
  {
   "cell_type": "code",
   "execution_count": 164,
   "metadata": {},
   "outputs": [],
   "source": [
    "test_data=pd.concat((test_data,enc_Store_Type),axis=1)"
   ]
  },
  {
   "cell_type": "code",
   "execution_count": 165,
   "metadata": {},
   "outputs": [],
   "source": [
    "test_data=test_data.astype({'Cluster 1':'float64',\n",
    "             'Cluster 2':'float64',\n",
    "             'Cluster 3':'float64',\n",
    "             'Grocery Store':'float64',\n",
    "             'Supermarket Type1':'float64',\n",
    "             'Supermarket Type2':'float64',\n",
    "             'Supermarket Type3':'float64'})"
   ]
  },
  {
   "cell_type": "code",
   "execution_count": 166,
   "metadata": {},
   "outputs": [],
   "source": [
    "enc_Item_Type=pd.get_dummies(test_data.Item_Type)\n",
    "test_data.drop('Item_Type',axis=1,inplace=True)"
   ]
  },
  {
   "cell_type": "code",
   "execution_count": 167,
   "metadata": {},
   "outputs": [],
   "source": [
    "test_data=pd.concat((test_data,enc_Item_Type),axis=1)"
   ]
  },
  {
   "cell_type": "code",
   "execution_count": 168,
   "metadata": {},
   "outputs": [],
   "source": [
    "cols=test_data.columns"
   ]
  },
  {
   "cell_type": "code",
   "execution_count": 169,
   "metadata": {},
   "outputs": [],
   "source": [
    "new_columns=[]\n",
    "for i in cols:\n",
    "    new_columns.append(i.replace(' ','_'))\n",
    "test_data.columns=new_columns"
   ]
  },
  {
   "cell_type": "code",
   "execution_count": 170,
   "metadata": {},
   "outputs": [],
   "source": [
    "test_data.to_csv('clean_zindi_test_.csv')"
   ]
  },
  {
   "cell_type": "markdown",
   "metadata": {},
   "source": [
    "##### Model building"
   ]
  },
  {
   "cell_type": "code",
   "execution_count": 171,
   "metadata": {},
   "outputs": [],
   "source": [
    "data=pd.read_csv('clean_zindi_train.csv')"
   ]
  },
  {
   "cell_type": "code",
   "execution_count": 172,
   "metadata": {},
   "outputs": [],
   "source": [
    "X=data.drop('Item_Store_ID',axis=1)\n",
    "y=data.Item_Store_Returns"
   ]
  },
  {
   "cell_type": "code",
   "execution_count": 173,
   "metadata": {},
   "outputs": [],
   "source": [
    "#selecting features\n",
    "features=['Item_Visibility','Item_Price','Cluster_1','Cluster_2','Grocery_Store','Supermarket_Type1','Supermarket_Type3']"
   ]
  },
  {
   "cell_type": "code",
   "execution_count": 174,
   "metadata": {},
   "outputs": [],
   "source": [
    "X=X.loc[:,features]"
   ]
  },
  {
   "cell_type": "code",
   "execution_count": 175,
   "metadata": {},
   "outputs": [],
   "source": [
    "from sklearn.preprocessing import StandardScaler,PolynomialFeatures\n",
    "scale=StandardScaler().fit(X)"
   ]
  },
  {
   "cell_type": "code",
   "execution_count": 176,
   "metadata": {},
   "outputs": [],
   "source": [
    "X=scale.transform(X)"
   ]
  },
  {
   "cell_type": "code",
   "execution_count": 177,
   "metadata": {},
   "outputs": [],
   "source": [
    "poly=PolynomialFeatures().fit(X)"
   ]
  },
  {
   "cell_type": "code",
   "execution_count": 178,
   "metadata": {},
   "outputs": [],
   "source": [
    "X=poly.transform(X)"
   ]
  },
  {
   "cell_type": "code",
   "execution_count": 179,
   "metadata": {},
   "outputs": [],
   "source": [
    "from sklearn.model_selection import train_test_split as tts\n",
    "x_train,x_val,y_train,y_val=tts(X,y,test_size=0.3,random_state=1)"
   ]
  },
  {
   "cell_type": "code",
   "execution_count": 180,
   "metadata": {},
   "outputs": [],
   "source": [
    "from sklearn.linear_model import LinearRegression,Ridge,Lasso"
   ]
  },
  {
   "cell_type": "code",
   "execution_count": 181,
   "metadata": {},
   "outputs": [],
   "source": [
    "lr=LinearRegression()"
   ]
  },
  {
   "cell_type": "code",
   "execution_count": 182,
   "metadata": {},
   "outputs": [],
   "source": [
    "ridge=Ridge(alpha=100)"
   ]
  },
  {
   "cell_type": "code",
   "execution_count": 183,
   "metadata": {},
   "outputs": [
    {
     "data": {
      "text/plain": [
       "LinearRegression()"
      ]
     },
     "execution_count": 183,
     "metadata": {},
     "output_type": "execute_result"
    }
   ],
   "source": [
    "lr.fit(x_train,y_train)"
   ]
  },
  {
   "cell_type": "code",
   "execution_count": 184,
   "metadata": {
    "scrolled": true
   },
   "outputs": [
    {
     "data": {
      "text/plain": [
       "0.5764647490037925"
      ]
     },
     "execution_count": 184,
     "metadata": {},
     "output_type": "execute_result"
    }
   ],
   "source": [
    "lr.score(x_train,y_train)"
   ]
  },
  {
   "cell_type": "code",
   "execution_count": 185,
   "metadata": {},
   "outputs": [
    {
     "data": {
      "text/plain": [
       "0.5657883514174351"
      ]
     },
     "execution_count": 185,
     "metadata": {},
     "output_type": "execute_result"
    }
   ],
   "source": [
    "lr.score(x_val,y_val)"
   ]
  },
  {
   "cell_type": "code",
   "execution_count": 186,
   "metadata": {
    "scrolled": true
   },
   "outputs": [
    {
     "data": {
      "text/plain": [
       "Ridge(alpha=100)"
      ]
     },
     "execution_count": 186,
     "metadata": {},
     "output_type": "execute_result"
    }
   ],
   "source": [
    "ridge.fit(x_train,y_train)"
   ]
  },
  {
   "cell_type": "code",
   "execution_count": 187,
   "metadata": {
    "scrolled": true
   },
   "outputs": [
    {
     "data": {
      "text/plain": [
       "0.5761263921699549"
      ]
     },
     "execution_count": 187,
     "metadata": {},
     "output_type": "execute_result"
    }
   ],
   "source": [
    "ridge.score(x_train,y_train)"
   ]
  },
  {
   "cell_type": "code",
   "execution_count": 188,
   "metadata": {},
   "outputs": [
    {
     "data": {
      "text/plain": [
       "0.5662898826454437"
      ]
     },
     "execution_count": 188,
     "metadata": {},
     "output_type": "execute_result"
    }
   ],
   "source": [
    "ridge.score(x_val,y_val)"
   ]
  },
  {
   "cell_type": "code",
   "execution_count": 189,
   "metadata": {},
   "outputs": [
    {
     "data": {
      "text/plain": [
       "Lasso(alpha=20, max_iter=100000)"
      ]
     },
     "execution_count": 189,
     "metadata": {},
     "output_type": "execute_result"
    }
   ],
   "source": [
    "#using Lasso \n",
    "lasso=Lasso(alpha=20,max_iter=100000)\n",
    "lasso.fit(x_train,y_train)"
   ]
  },
  {
   "cell_type": "code",
   "execution_count": 190,
   "metadata": {},
   "outputs": [
    {
     "data": {
      "text/plain": [
       "0.5760016101371028"
      ]
     },
     "execution_count": 190,
     "metadata": {},
     "output_type": "execute_result"
    }
   ],
   "source": [
    "lasso.score(x_train,y_train)"
   ]
  },
  {
   "cell_type": "code",
   "execution_count": 191,
   "metadata": {},
   "outputs": [
    {
     "data": {
      "text/plain": [
       "0.5664122912881655"
      ]
     },
     "execution_count": 191,
     "metadata": {},
     "output_type": "execute_result"
    }
   ],
   "source": [
    "lasso.score(x_val,y_val)"
   ]
  },
  {
   "cell_type": "code",
   "execution_count": 192,
   "metadata": {},
   "outputs": [],
   "source": [
    "from sklearn.metrics import mean_squared_error as mse"
   ]
  },
  {
   "cell_type": "code",
   "execution_count": 193,
   "metadata": {},
   "outputs": [
    {
     "data": {
      "text/plain": [
       "2918.0187700836377"
      ]
     },
     "execution_count": 193,
     "metadata": {},
     "output_type": "execute_result"
    }
   ],
   "source": [
    "mse(y_val,lasso.predict(x_val))**0.5"
   ]
  },
  {
   "cell_type": "code",
   "execution_count": 194,
   "metadata": {},
   "outputs": [
    {
     "data": {
      "text/plain": [
       "2920.1175539001033"
      ]
     },
     "execution_count": 194,
     "metadata": {},
     "output_type": "execute_result"
    }
   ],
   "source": [
    "mse(y_val,lr.predict(x_val))**0.5"
   ]
  },
  {
   "cell_type": "markdown",
   "metadata": {},
   "source": [
    "###### lasso performed better over ridge and the simple linear regression model"
   ]
  },
  {
   "cell_type": "code",
   "execution_count": 201,
   "metadata": {},
   "outputs": [],
   "source": [
    "#loading the test dataset"
   ]
  },
  {
   "cell_type": "code",
   "execution_count": 202,
   "metadata": {},
   "outputs": [],
   "source": [
    "test=pd.read_csv('clean_zindi_test.csv')"
   ]
  },
  {
   "cell_type": "code",
   "execution_count": 203,
   "metadata": {},
   "outputs": [],
   "source": [
    "test_data=pd.read_csv('zindi_test.csv') #original dataset needed for submission"
   ]
  },
  {
   "cell_type": "code",
   "execution_count": 204,
   "metadata": {},
   "outputs": [],
   "source": [
    "test.drop(['Unnamed: 0','Item_Store_ID'],axis=1,inplace=True)"
   ]
  },
  {
   "cell_type": "code",
   "execution_count": 205,
   "metadata": {},
   "outputs": [],
   "source": [
    "x_test=test.loc[:,features]"
   ]
  },
  {
   "cell_type": "code",
   "execution_count": 206,
   "metadata": {},
   "outputs": [],
   "source": [
    "x_test=scale.transform(x_test)\n",
    "x_test=poly.transform(x_test)"
   ]
  },
  {
   "cell_type": "code",
   "execution_count": 208,
   "metadata": {},
   "outputs": [],
   "source": [
    "#using the Lasso model for test prediction\n",
    "predictions=lasso.predict(x_test)"
   ]
  },
  {
   "cell_type": "markdown",
   "metadata": {},
   "source": [
    "##### making submission "
   ]
  },
  {
   "cell_type": "code",
   "execution_count": 209,
   "metadata": {},
   "outputs": [],
   "source": [
    "submit=pd.DataFrame({'Item_Store_ID':test_data.Item_Store_ID,\n",
    "                   'Item_Store_Returns':predictions})"
   ]
  },
  {
   "cell_type": "code",
   "execution_count": 210,
   "metadata": {},
   "outputs": [],
   "source": [
    "submit.to_csv('my_submission.csv',index=False)"
   ]
  },
  {
   "cell_type": "markdown",
   "metadata": {},
   "source": [
    "**Further improvements:**\n",
    "\n",
    "Better feature engineering and selection.\n",
    "\n",
    "ensembling techniques."
   ]
  },
  {
   "cell_type": "code",
   "execution_count": null,
   "metadata": {},
   "outputs": [],
   "source": []
  }
 ],
 "metadata": {
  "kernelspec": {
   "display_name": "Python 3",
   "language": "python",
   "name": "python3"
  },
  "language_info": {
   "codemirror_mode": {
    "name": "ipython",
    "version": 3
   },
   "file_extension": ".py",
   "mimetype": "text/x-python",
   "name": "python",
   "nbconvert_exporter": "python",
   "pygments_lexer": "ipython3",
   "version": "3.8.3"
  }
 },
 "nbformat": 4,
 "nbformat_minor": 4
}
